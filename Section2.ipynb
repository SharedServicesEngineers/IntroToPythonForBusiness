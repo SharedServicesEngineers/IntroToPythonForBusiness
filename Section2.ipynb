{
 "cells": [
  {
   "cell_type": "markdown",
   "metadata": {},
   "source": [
    "# Section 2: Functions and For Loops\n",
    "\n",
    "    In this section, we will learn how to define functions and use a for loop in Python.\n",
    "\n",
    "Let's invent a potential real world scenario where we might want to use Python. We'll keep it simple to begin.\n",
    "\n",
    "You are a manager of a finance team and need to track the hours worked for your associates so you can obtain funding for the next financial quarter. You have ten employees on your team.\n",
    "In the last week John worked 38 hours, Tom worked 35, Terry worked 44, Susan worked 50, Jim worked 45, Ron worked 32, Sally worked 38, Brandon worked 41, Rebecca worked 39, and Billy worked 8 because he was sick.\n",
    "Let's add these hours worked together so we can justify more funding for incentives or extra headcount.\n",
    "\n",
    "Read through the following sections and press the play button next to the code blocks to see it run (if you have a GitHub account and want to use a Codespace). You can also edit the code blocks and run them yourself. Try changing the values of the variables and see what happens.\n",
    "Some of the code blocks may give you errors if you try to run them. This is by design so DON'T PANIC. Just continue onto the next block and everything will be okay."
   ]
  },
  {
   "cell_type": "markdown",
   "metadata": {},
   "source": [
    "Before we create a function, we need some data to work with. Let's keep it simple and just create a list of numbers."
   ]
  },
  {
   "cell_type": "code",
   "execution_count": null,
   "metadata": {},
   "outputs": [],
   "source": [
    "#Below is the data we care about.\n",
    "\n",
    "hours_worked = [38, 35, 44, 50, 45, 32, 38, 41, 39, 8]"
   ]
  },
  {
   "cell_type": "markdown",
   "metadata": {},
   "source": [
    "Here, we've created a list of numbers containing the hours worked for each associate. We could also use a tuple, set, or dictionary and define key:value pairs, but we want to keep it simple to start before we start really digging into data. \n",
    "\n",
    "Compaired to the previous section, we've given this variable a more descriptive name. This is a good practice to get into. It makes it easier to understand what the variable is used for.\n",
    "\n",
    "We also added a comment to the code even though the code is self explanatory. It's a good habit to comment your code so that people you share it with can easily understand what it does, and so you don't forget what you were doing if you come back to it later."
   ]
  },
  {
   "cell_type": "markdown",
   "metadata": {},
   "source": [
    "Next, let's do something with this list of numbers. Let's create a function that will add up all the numbers in the list and return the result."
   ]
  },
  {
   "cell_type": "code",
   "execution_count": null,
   "metadata": {},
   "outputs": [],
   "source": [
    "#Create a function to add all the numbers together.\n",
    "\n",
    "def add_all():\n",
    "    sum = 0\n",
    "    for num in hours_worked:\n",
    "        sum = sum + num\n",
    "    return sum"
   ]
  },
  {
   "cell_type": "markdown",
   "metadata": {},
   "source": [
    "This might look overwhelming but let's break it down into smaller pieces.\n",
    "\n",
    "In the first line, we start with the word def, as in \"define\". This tells Python that we are defining a function. \n",
    "\n",
    "Next, we give the function a name. In this case, we've named it add_all. The name of the function is followed by a set of parentheses. We'll talk more about these later. For now, just know that the parentheses are required even if the function doesn't take any arguments."
   ]
  },
  {
   "cell_type": "markdown",
   "metadata": {},
   "source": [
    "What does this function look like step by step with comments to explain what's happening?\n",
    "\n",
    "Let's begin by defining the function:"
   ]
  },
  {
   "cell_type": "code",
   "execution_count": null,
   "metadata": {},
   "outputs": [],
   "source": [
    "#Define the function.\n",
    "def add_all():"
   ]
  },
  {
   "cell_type": "markdown",
   "metadata": {},
   "source": [
    "Above, we've created the name of the function.\n",
    "\n",
    "Next, let's start creating functionality."
   ]
  },
  {
   "cell_type": "code",
   "execution_count": null,
   "metadata": {},
   "outputs": [],
   "source": [
    "#Define the function.\n",
    "def add_all():\n",
    "    #Create a variable to store the sum.\n",
    "    sum = 0"
   ]
  },
  {
   "cell_type": "markdown",
   "metadata": {},
   "source": [
    "Even though we already have a variable called data_we_want, we need somewhere to store the value of the sum once we're done adding all of the numbers together. We need to do this before we add everything up because we can't add a number to a variable that doesn't exist yet."
   ]
  },
  {
   "cell_type": "code",
   "execution_count": null,
   "metadata": {},
   "outputs": [],
   "source": [
    "#Define the function.\n",
    "def add_all():\n",
    "    #Create a variable to store the sum.\n",
    "    sum = 0\n",
    "    #Create a for loop to add the numbers together.\n",
    "    for num in hours_worked:\n",
    "        sum = sum + num"
   ]
  },
  {
   "cell_type": "markdown",
   "metadata": {},
   "source": [
    "The next thing we need to do is define the behavior of the function. In this casee, we want to do that with a for loop.\n",
    "\n",
    "This for loop can be rewritten with words to help us understand what's happening:\n",
    "\n",
    "    For each number in the data_we_want list, we change the value of the sum variable (which is currently equal to 0) to be equal to the previous value of the sum variable plus the next number in the list."
   ]
  },
  {
   "cell_type": "markdown",
   "metadata": {},
   "source": [
    "The next thing we need to do is tell the function what to return. Right now, the function will add everything up, but it won't tell us what the sum is. We can do that with the return keyword.\n"
   ]
  },
  {
   "cell_type": "code",
   "execution_count": null,
   "metadata": {},
   "outputs": [],
   "source": [
    "#Define the function.\n",
    "def add_all():\n",
    "    #Create a variable to store the sum.\n",
    "    sum = 0\n",
    "    #Create a for loop to add the numbers together.\n",
    "    for num in hours_worked:\n",
    "        sum = sum + num\n",
    "    #Return the sum.\n",
    "    return sum"
   ]
  },
  {
   "cell_type": "markdown",
   "metadata": {},
   "source": [
    "We've now completed a function, but the function won't execute unless we call it. This means we need another line of code that tells Python to use the function we've defined.\n",
    "\n",
    "Let's put everything together, including the list of numbers and see what happens when we call the function."
   ]
  },
  {
   "cell_type": "code",
   "execution_count": null,
   "metadata": {},
   "outputs": [],
   "source": [
    "#Below is the data we care about.\n",
    "\n",
    "hours_worked = [38, 35, 44, 50, 45, 32, 38, 41, 39, 8]\n",
    "\n",
    "#Define the function.\n",
    "def add_all():\n",
    "    #Create a variable to store the sum.\n",
    "    sum = 0\n",
    "    #Create a for loop to add the numbers together.\n",
    "    for num in hours_worked:\n",
    "        sum = sum + num\n",
    "    #Return the sum.\n",
    "    return sum\n",
    "\n",
    "#Call the function.\n",
    "add_all()"
   ]
  },
  {
   "cell_type": "markdown",
   "metadata": {},
   "source": [
    "# Press the play button next to the above code block to run it!"
   ]
  },
  {
   "cell_type": "markdown",
   "metadata": {},
   "source": [
    "We've successfully created a variable and a function. Functions are useful because they allow us to reuse code. We can call the function as many times as we want and it will always add up the numbers in the list. In the next sections we will look at what this might look like in a real world scenario."
   ]
  }
 ],
 "metadata": {
  "kernelspec": {
   "display_name": "Python 3",
   "language": "python",
   "name": "python3"
  },
  "language_info": {
   "codemirror_mode": {
    "name": "ipython",
    "version": 3
   },
   "file_extension": ".py",
   "mimetype": "text/x-python",
   "name": "python",
   "nbconvert_exporter": "python",
   "pygments_lexer": "ipython3",
   "version": "3.10.8"
  },
  "orig_nbformat": 4
 },
 "nbformat": 4,
 "nbformat_minor": 2
}
