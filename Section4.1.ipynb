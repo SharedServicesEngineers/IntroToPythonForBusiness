{
 "cells": [
  {
   "cell_type": "markdown",
   "metadata": {},
   "source": [
    "# Section 4.1: Arithmetic Operators - Addition\n",
    "\n",
    "Python operators are designed to mirror common mathematical operators that we all learned in school. They are a useful tool to have when working with data sets that you may need to complete a calculus on to better help analyze the data."
   ]
  },
  {
   "cell_type": "code",
   "execution_count": null,
   "metadata": {},
   "outputs": [],
   "source": [
    "#The addition operator\n",
    "+"
   ]
  },
  {
   "cell_type": "markdown",
   "metadata": {},
   "source": [
    "The addition operator is exactly the same as it is in old school mathematics, but it's behavior can change depending on the data type you're using while in Python. \n",
    "\n",
    "Let's use this operator with a few different data types and see what happens."
   ]
  },
  {
   "cell_type": "code",
   "execution_count": 3,
   "metadata": {},
   "outputs": [
    {
     "name": "stdout",
     "output_type": "stream",
     "text": [
      "10\n"
     ]
    }
   ],
   "source": [
    "#Addition with integers\n",
    "\n",
    "result = 5 + 5\n",
    "print(result)"
   ]
  },
  {
   "cell_type": "markdown",
   "metadata": {},
   "source": [
    "Here, the addition operator behaves as you would expect, adding 5 to 5, giving us the expected result of 10.\n",
    "\n",
    "Let's try with another."
   ]
  },
  {
   "cell_type": "code",
   "execution_count": 4,
   "metadata": {},
   "outputs": [
    {
     "name": "stdout",
     "output_type": "stream",
     "text": [
      "10.0\n"
     ]
    }
   ],
   "source": [
    "#Addition with floats\n",
    "\n",
    "result = 5.2 + 4.8\n",
    "print(result)"
   ]
  },
  {
   "cell_type": "markdown",
   "metadata": {},
   "source": [
    "Again, it behaves exactly as we would expect, adding the given numbers to provide us with the expected result.\n",
    "\n",
    "What happens when we add an integer and a float?"
   ]
  },
  {
   "cell_type": "code",
   "execution_count": 5,
   "metadata": {},
   "outputs": [
    {
     "name": "stdout",
     "output_type": "stream",
     "text": [
      "8.33\n"
     ]
    }
   ],
   "source": [
    "#Addition with integers and floats\n",
    "\n",
    "result = 5 + 3.33\n",
    "print(result)"
   ]
  },
  {
   "cell_type": "markdown",
   "metadata": {},
   "source": [
    "It behaves as expected and gives us the expected result.\n",
    "\n",
    "Let's look at a few more data types."
   ]
  },
  {
   "cell_type": "code",
   "execution_count": 6,
   "metadata": {},
   "outputs": [
    {
     "name": "stdout",
     "output_type": "stream",
     "text": [
      "55\n"
     ]
    }
   ],
   "source": [
    "#Addition with strings\n",
    "\n",
    "result = \"5\" + \"5\"\n",
    "print(result)"
   ]
  },
  {
   "cell_type": "markdown",
   "metadata": {},
   "source": [
    "Well that's not quite right, because 5 plus 5 is not 55. When we try to add two strings together, be them numbers or letters, Python will treat them explicitly as text and will disregard any numeric value that the string may contain.\n",
    "\n",
    "What happens if we try to add a string to and integer or a float?"
   ]
  },
  {
   "cell_type": "code",
   "execution_count": null,
   "metadata": {},
   "outputs": [],
   "source": [
    "#Addition with strings and integers\n",
    "\n",
    "result = \"5\" + 5\n",
    "print(result)"
   ]
  },
  {
   "cell_type": "markdown",
   "metadata": {},
   "source": [
    "We receive an error because Python cannot add a string to an integer, because they are fundamentally different data types. In later sections, we will look at transforming data so that we will be able to complete this operation."
   ]
  },
  {
   "cell_type": "markdown",
   "metadata": {},
   "source": [
    "Let's continue by adding other data types to see what happens."
   ]
  },
  {
   "cell_type": "code",
   "execution_count": 7,
   "metadata": {},
   "outputs": [
    {
     "name": "stdout",
     "output_type": "stream",
     "text": [
      "[1, 2, 3, 4, 5, 6, 7, 8, 9, 10]\n"
     ]
    }
   ],
   "source": [
    "#Addition with lists\n",
    "\n",
    "result = [1,2,3,4,5] + [6,7,8,9,10]\n",
    "print(result)"
   ]
  },
  {
   "cell_type": "markdown",
   "metadata": {},
   "source": [
    "Python knows that these two lists are the same data type, so it can easily combine them (known as concatenating) to create a new list."
   ]
  },
  {
   "cell_type": "code",
   "execution_count": 8,
   "metadata": {},
   "outputs": [
    {
     "name": "stdout",
     "output_type": "stream",
     "text": [
      "(1, 2, 3, 4, 5, 6, 7, 8, 9, 10)\n"
     ]
    }
   ],
   "source": [
    "#Addition with tuples\n",
    "\n",
    "result = (1,2,3,4,5) + (6,7,8,9,10)\n",
    "print(result)"
   ]
  },
  {
   "cell_type": "markdown",
   "metadata": {},
   "source": [
    "Again, Python knows that they are the same data type, same as with a list, so it is able to combine them. You'll see this as a common trend for Python data types - though there are exceptions.\n",
    "\n",
    "Let's look at one of those exceptions now."
   ]
  },
  {
   "cell_type": "code",
   "execution_count": null,
   "metadata": {},
   "outputs": [],
   "source": [
    "#Addition with sets\n",
    "\n",
    "result = {1,2,3,4,5} + {6,7,8,9,10}\n",
    "print(result)"
   ]
  },
  {
   "cell_type": "markdown",
   "metadata": {},
   "source": [
    "Set's cannot be concatenated with addition because while they do not allow for duplicates, they are also unorders and unindexed. Addition implies the existence of some sort of order or index. There is a way to concatenate sets but we will get to that later.\n",
    "\n",
    "Let's look at another data type that cannot be added."
   ]
  },
  {
   "cell_type": "code",
   "execution_count": null,
   "metadata": {},
   "outputs": [],
   "source": [
    "#Addition with dictionaries\n",
    "\n",
    "result = {\"name\":\"John\", \"age\":\"35\"} + {\"hobies\":\"golf\", \"pets\":\"dogs\"}\n",
    "print(result)"
   ]
  },
  {
   "cell_type": "markdown",
   "metadata": {},
   "source": [
    "Addition cannot be completed with dictionaries because they are key:value pairs. Python doesn't know what to do in this situation. Should it add the keys together, the values, or combine them. Again, there is a way to concatenate dictionaries but we will get to that later.\n",
    "\n",
    "Let's take a look at one last data type in Python and how it behaves when added together."
   ]
  },
  {
   "cell_type": "code",
   "execution_count": 9,
   "metadata": {},
   "outputs": [
    {
     "name": "stdout",
     "output_type": "stream",
     "text": [
      "1\n"
     ]
    }
   ],
   "source": [
    "#Addition with booleans\n",
    "\n",
    "result = True + False\n",
    "print(result)"
   ]
  },
  {
   "cell_type": "markdown",
   "metadata": {},
   "source": [
    "When we add bools together like this we get 1. This makes sense if we think about booleans for the value they represent, yes or no, true or false, 1 or 0. What happens if we add different combinations of bools?"
   ]
  },
  {
   "cell_type": "code",
   "execution_count": 2,
   "metadata": {},
   "outputs": [
    {
     "name": "stdout",
     "output_type": "stream",
     "text": [
      "2\n"
     ]
    }
   ],
   "source": [
    "#More boolean addition\n",
    "\n",
    "result = True + True\n",
    "print(result)"
   ]
  },
  {
   "cell_type": "markdown",
   "metadata": {},
   "source": [
    "Here we get 2, because True is literally equal to the integer 1, rather that representing an ephemeral \"True\" value. "
   ]
  }
 ],
 "metadata": {
  "kernelspec": {
   "display_name": "Python 3",
   "language": "python",
   "name": "python3"
  },
  "language_info": {
   "codemirror_mode": {
    "name": "ipython",
    "version": 3
   },
   "file_extension": ".py",
   "mimetype": "text/x-python",
   "name": "python",
   "nbconvert_exporter": "python",
   "pygments_lexer": "ipython3",
   "version": "3.10.8"
  },
  "orig_nbformat": 4
 },
 "nbformat": 4,
 "nbformat_minor": 2
}
