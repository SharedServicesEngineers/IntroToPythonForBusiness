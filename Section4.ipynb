{
 "cells": [
  {
   "cell_type": "markdown",
   "metadata": {},
   "source": [
    "# Section 4: Arithmetic Operators\n",
    "\n",
    "In section 4 we will go over arithmetic operators and they're usage with different data types. \n",
    "\n",
    "This should give you a strong understanding of the foundations of math in Python and the behavior of different data types. Certain data types are easy to work with in math but others may behave in counterintuitive ways.\n",
    "\n",
    "After reviewing the following sections you'll be able to complete most mathematics functions using Python.\n",
    "\n",
    "Navigate to the Section 4 (Arithmetic Operators) folder to get started."
   ]
  },
  {
   "cell_type": "markdown",
   "metadata": {},
   "source": [
    "These are the operators we will review:\n",
    "\n",
    "Addition + \n",
    "\n",
    "Subtraction -\n",
    "\n",
    "Multiplication *\n",
    "\n",
    "Division /\n",
    "\n",
    "Modulus %\n",
    "\n",
    "Exponents **\n",
    "\n",
    "Floor Division //\n"
   ]
  }
 ],
 "metadata": {
  "kernelspec": {
   "display_name": "Python 3",
   "language": "python",
   "name": "python3"
  },
  "language_info": {
   "codemirror_mode": {
    "name": "ipython",
    "version": 3
   },
   "file_extension": ".py",
   "mimetype": "text/x-python",
   "name": "python",
   "nbconvert_exporter": "python",
   "pygments_lexer": "ipython3",
   "version": "3.10.8"
  },
  "orig_nbformat": 4
 },
 "nbformat": 4,
 "nbformat_minor": 2
}
