{
 "cells": [
  {
   "cell_type": "markdown",
   "metadata": {},
   "source": [
    "# Section 5: Python Libraries\n",
    "\n",
    "In Section 5 we're going to go a little more in depth with Python Libraries. It's important to understand what Libraries are and how to use them as they are a powerful extension of Python and empower you to do more with less."
   ]
  },
  {
   "cell_type": "markdown",
   "metadata": {},
   "source": [
    "Libraries can be thought of as extensions that can be added onto Python to accomplish different tasks. They can do anything from advanced calculus, data manipulation, HTML scraping, creating graphs and visuals, to making PDFs.\n",
    "\n",
    "It's important to note that when you install an extension it won't necessarily come with an easy to read users manual, so it's a good practice to use online resources and the community to learn about it's functionality."
   ]
  },
  {
   "cell_type": "markdown",
   "metadata": {},
   "source": [
    "Though there are all Python libraries are useful, we're just going to go over a few that could be useful in data analysis.\n",
    "\n",
    "\n",
    "Pandas:\n",
    "\n",
    "As we've seen in Section 3 Pandas can be a powerful tool for data manipulation and analytics.\n",
    "\n",
    "You can create tables, merge tables, pivot data, and import and export data to and from sources.\n",
    "\n",
    "Pandas is a powerful resource because it reads the data for you and can make massive manipulations with a single line of code. It can also transform data from one type to another.\n",
    "\n",
    "Some important Pandas functions are:\n",
    "\n",
    "pivot_table(): This does what the name suggests and pivots the data table.\n",
    "\n",
    "crosstab(): This computes a simple cross tabulation of two (or more) factors.\n",
    "\n",
    "merge(): The merge function merges DataFrames or named Series objects with a database-style join.\n",
    "\n",
    "to_datetime() or to_timedelta(): Change a value into a datetime or a time delta stamp."
   ]
  },
  {
   "cell_type": "markdown",
   "metadata": {},
   "source": [
    "MatPlotLib:\n",
    "\n",
    "Matplotlib is a powerful graphing and mapping tool. It gives the user the ability to take data (like that which you used for pandas) and plot the results onto a graph for visualization.\n",
    "\n",
    "Some useful matplotlib functions are:\n",
    "\n",
    "plot(x, y): Given any set of data, you can plot their values into any kind of simple, two dimensional line graph, but it can contain as much data as you want. People have even been able to create images, like a commonly referenced graph that looks like a dolphin.\n",
    "\n",
    "scatter(x, y): This creates a scatter plot that is useful for heat maps and statistical analysis.\n",
    "\n",
    "bar(x, height): The bar function does what you would likely think and creates a bar graph given two variables, your x and y.\n",
    "\n",
    "stem(x, y): This function creates a stem plot that is helpful for classifying either discrete or continuous variables.\n",
    "\n",
    "fill_between(x, y1, y2): This creates a graph of two lines and fills the gap between them.\n",
    "\n",
    "stackplot(x, y): This stacks several different lines onto one graph and fills the space between the line and the x axis with different colors.\n",
    "\n",
    "stairs(values): Stairs creates a bar graph but connects the vertical sides of the bars to create a unified graph."
   ]
  },
  {
   "cell_type": "markdown",
   "metadata": {},
   "source": [
    "NumPy:\n",
    "\n",
    "NumPy is a Python library that adds support for large, multi-demensional arrays and matrices, with a large collection of high-level mathematical functions.\n",
    "\n",
    "There are far too many NumPy functions to select the best ones but the capabilities include:\n",
    "\n",
    "Trigonometric functions, hyperbolic functions, rounding, sums, products, and differences, exponents and logarithms, floating point routines, handling of complex numbers, and extrema findings."
   ]
  }
 ],
 "metadata": {
  "language_info": {
   "name": "python"
  },
  "orig_nbformat": 4
 },
 "nbformat": 4,
 "nbformat_minor": 2
}
