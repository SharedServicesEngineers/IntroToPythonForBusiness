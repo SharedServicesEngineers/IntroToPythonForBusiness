{
 "cells": [
  {
   "cell_type": "markdown",
   "metadata": {},
   "source": [
    "# Section 4.3: Arithmetic Operators - Multiplication\n",
    "\n",
    "Multiplication in Python, as well as the following operators we will cover in Section 4 are like subtraction in that they can only be completed with numerical data types.\n",
    "\n",
    "Let's take a look at what multiplication looks like in Python, but this time let's write the code a little differently."
   ]
  },
  {
   "cell_type": "code",
   "execution_count": 1,
   "metadata": {},
   "outputs": [
    {
     "name": "stdout",
     "output_type": "stream",
     "text": [
      "25\n"
     ]
    }
   ],
   "source": [
    "print(5 * 5)"
   ]
  },
  {
   "cell_type": "markdown",
   "metadata": {},
   "source": [
    "Here we were able to multiply 5 by 5 and got the answer we would expect, which is 25. What we did that was a little bit different though, was put the operation we wanted to complete in the print function, rather than assigning it a variable first.\n",
    "\n",
    "Both methods are perfectly acceptable ways of multiplying two numbers, the distinction is the circumstances when you might want to multiply something.\n",
    "\n",
    "If you're doing multiplication within a function you have created to solve a problem, then it may be best to assign it to a variable. If all you're trying to do is multiply two numbers, it would be quicker and easier to put it in the print function.\n",
    "\n",
    "Let's take a look at another example."
   ]
  },
  {
   "cell_type": "code",
   "execution_count": 2,
   "metadata": {},
   "outputs": [
    {
     "name": "stdout",
     "output_type": "stream",
     "text": [
      "-25\n"
     ]
    }
   ],
   "source": [
    "print(-5 * 5)"
   ]
  },
  {
   "cell_type": "code",
   "execution_count": 4,
   "metadata": {},
   "outputs": [
    {
     "name": "stdout",
     "output_type": "stream",
     "text": [
      "-26.65\n"
     ]
    }
   ],
   "source": [
    "print(-5 * 5.33)"
   ]
  },
  {
   "cell_type": "markdown",
   "metadata": {},
   "source": [
    "The multiplication operator is exactly the same in Python as it is in classical math, being able to multiply any two numbers whether they are an integer or fractional.\n",
    "\n",
    "Next, we will work on division."
   ]
  }
 ],
 "metadata": {
  "kernelspec": {
   "display_name": "Python 3",
   "language": "python",
   "name": "python3"
  },
  "language_info": {
   "codemirror_mode": {
    "name": "ipython",
    "version": 3
   },
   "file_extension": ".py",
   "mimetype": "text/x-python",
   "name": "python",
   "nbconvert_exporter": "python",
   "pygments_lexer": "ipython3",
   "version": "3.10.8"
  },
  "orig_nbformat": 4
 },
 "nbformat": 4,
 "nbformat_minor": 2
}
