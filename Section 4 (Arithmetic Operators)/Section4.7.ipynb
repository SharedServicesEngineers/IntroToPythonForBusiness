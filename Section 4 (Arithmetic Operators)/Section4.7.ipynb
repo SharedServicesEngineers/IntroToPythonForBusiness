{
 "cells": [
  {
   "cell_type": "markdown",
   "metadata": {},
   "source": [
    "# Section 4.7: Arithmetic Operators - Floor Division\n",
    "\n",
    "Floor division functions in exactly the same way as the division operator, but it rounds down the result to the nearest whole number. This can be useful if you want to avoid receiving floats in your results."
   ]
  },
  {
   "cell_type": "code",
   "execution_count": 1,
   "metadata": {},
   "outputs": [
    {
     "name": "stdout",
     "output_type": "stream",
     "text": [
      "3\n"
     ]
    }
   ],
   "source": [
    "print(10 // 3)"
   ]
  },
  {
   "cell_type": "code",
   "execution_count": 1,
   "metadata": {},
   "outputs": [
    {
     "name": "stdout",
     "output_type": "stream",
     "text": [
      "-4\n"
     ]
    }
   ],
   "source": [
    "print(-10 // 3)"
   ]
  },
  {
   "cell_type": "markdown",
   "metadata": {},
   "source": [
    "Here we see what we would expect, but it's important to clarify what is going on.\n",
    "\n",
    "In the first example we divide 10 by 3 which returns 3.3333333333 and so on. The Floor Division operator makes that division operation, then rounds it down to the nearest whole number but it does not round towards 0.\n",
    "\n",
    "In the second example we divide -10 by 3 which returns -3.3333333333 and so on. The Floor Division operator does that division operation, but again rolls down to the next whole number, not towards 0."
   ]
  }
 ],
 "metadata": {
  "kernelspec": {
   "display_name": "Python 3",
   "language": "python",
   "name": "python3"
  },
  "language_info": {
   "codemirror_mode": {
    "name": "ipython",
    "version": 3
   },
   "file_extension": ".py",
   "mimetype": "text/x-python",
   "name": "python",
   "nbconvert_exporter": "python",
   "pygments_lexer": "ipython3",
   "version": "3.10.8"
  },
  "orig_nbformat": 4
 },
 "nbformat": 4,
 "nbformat_minor": 2
}
