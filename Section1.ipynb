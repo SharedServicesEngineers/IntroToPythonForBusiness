{
 "cells": [
  {
   "cell_type": "markdown",
   "metadata": {},
   "source": [
    "# Section 1: Introduction to Python\n",
    "\n",
    "    This is part one of your introduction to Python for business. In this section, you will learn the basics of Python; variables and data types. In future sections we will be using these principles to analyze real world data sets to solve real world problems."
   ]
  },
  {
   "cell_type": "code",
   "execution_count": null,
   "metadata": {},
   "outputs": [],
   "source": [
    "#This is a comment."
   ]
  },
  {
   "cell_type": "markdown",
   "metadata": {},
   "source": [
    "A comment is a line of code that is not executed. It can be used to explain code or to prevent code from being executed. Comments are denoted by a # symbol."
   ]
  },
  {
   "cell_type": "code",
   "execution_count": null,
   "metadata": {},
   "outputs": [],
   "source": [
    "#This is a variable.\n",
    "x = 5"
   ]
  },
  {
   "cell_type": "markdown",
   "metadata": {},
   "source": [
    "A variable is a name that refers to a value. Variables are created using the = operator. For example, the previous code creates a variable named x and assigns it the value 5.\n",
    "\n",
    "A variable can be given any name that is not a reserved work in Python. To keep things simple for this section we will only be creating variables with single letter names. In future sections we will use more descriptive names.\n",
    "\n",
    "In this example, the value 5 is an integer. An integer is any whole number and can be positive or negative. In Python, integers are represented by the int data type. When assigned to a variable or used in code, they are not surrounded by quotes or other punctuation."
   ]
  },
  {
   "cell_type": "code",
   "execution_count": null,
   "metadata": {},
   "outputs": [],
   "source": [
    "#This is a float.\n",
    "z = 5.5"
   ]
  },
  {
   "cell_type": "markdown",
   "metadata": {},
   "source": [
    "Similar to integers, floating point values are numbers that can be positive or negative. However, floats can also be fractional and always contain a decimal point. In Python, floats are represented by the float data type. When assigned to a variable or used in code, they are not surrounded by quotes or other punctuation."
   ]
  },
  {
   "cell_type": "code",
   "execution_count": null,
   "metadata": {},
   "outputs": [],
   "source": [
    "#This is a string.\n",
    "y = \"Hello World\""
   ]
  },
  {
   "cell_type": "markdown",
   "metadata": {},
   "source": [
    "Strings are any sequence of characters surrounded by quotes. In Python, strings are represented by the str data type. When assigned to a variable or used in code, they are surrounded by single or double quotes."
   ]
  },
  {
   "cell_type": "code",
   "execution_count": null,
   "metadata": {},
   "outputs": [],
   "source": [
    "#This is a boolean.\n",
    "a = True\n",
    "b = False"
   ]
  },
  {
   "cell_type": "markdown",
   "metadata": {},
   "source": [
    "A boolean is a binary value that is either True or Flase, yes or no. In Python, booleans are represented by the bool data type. When assigned to a variable or used in code, they are not surrounded by quotes or other punctuation and are capitalized."
   ]
  },
  {
   "cell_type": "code",
   "execution_count": null,
   "metadata": {},
   "outputs": [],
   "source": [
    "#This is a list.\n",
    "c = [1,2,3,4,5]\n",
    "d = [\"Hello\", \"World\", \"!\"]"
   ]
  },
  {
   "cell_type": "markdown",
   "metadata": {},
   "source": [
    "A Python list is a collection of values. Lists are created using square brackets and values are separated by commas. Lists can contain any combination of data types. Lists can also be assigned to variables.\n",
    "\n",
    "In the above examples we are listing the numbers 1, 2, 3, 4, 5 and assigning them to the variable x. We are also listing the strings \"Hello\", \"World\", and \"!\" and assigning them to the variable d."
   ]
  },
  {
   "cell_type": "code",
   "execution_count": null,
   "metadata": {},
   "outputs": [],
   "source": [
    "#This is a tuple.\n",
    "e = (1,2,3,4,5)"
   ]
  },
  {
   "cell_type": "markdown",
   "metadata": {},
   "source": [
    "Similar to a list, a Python tuple is a collection of values. Tuples are created using parentheses and values are separated by commas. Tuples can contain any combination of data types. Tuples can also be assigned to variables.\n",
    "\n",
    "The difference between a list and a tuple is that a list is mutable, meaning it can be changed, and a tuple is immutable, meaning it cannot be changed."
   ]
  },
  {
   "cell_type": "code",
   "execution_count": null,
   "metadata": {},
   "outputs": [],
   "source": [
    "#This is a dictionary.\n",
    "f = {\"name\": \"John\", \"age\": 25}"
   ]
  },
  {
   "cell_type": "markdown",
   "metadata": {},
   "source": [
    "A Python dictionary is a set of key:value pairs. Similar to a variable, we are assigning the \"John\" to name, but use a : instead of a =. The key:value pairs are separated by commas and the entire dictionary is surrounded by curly braces.\n",
    "\n",
    "Lets take a look at a larger dictionary:"
   ]
  },
  {
   "cell_type": "code",
   "execution_count": null,
   "metadata": {},
   "outputs": [],
   "source": [
    "g = {\"name\": \"John\", \"age\": 25, \"hobbies\": [\"reading\", \"writing\", \"coding\"]}"
   ]
  },
  {
   "cell_type": "markdown",
   "metadata": {},
   "source": [
    "In the above example, we set the value of the key \"name\" to the string \"John\", the value of the key \"age\" to the integer 30, and the value of the key \"hobbies\" to a list of strings."
   ]
  },
  {
   "cell_type": "code",
   "execution_count": null,
   "metadata": {},
   "outputs": [],
   "source": [
    "#This is a set.\n",
    "h = {1,2,3,4,5}"
   ]
  },
  {
   "cell_type": "markdown",
   "metadata": {},
   "source": [
    "A set is a collection of unique values. Sets are created using curly braces and values are separated by commas. Sets can contain any combination of data types. Sets can also be assigned to variables.\n",
    "\n",
    "The distinction between a set and a list, tuple, or dictionary is that a set can only contain unique values. If you try to add a value to a set that already exists, it will not be added. Lists, tuples, and dictionaries can contain duplicate values."
   ]
  },
  {
   "cell_type": "markdown",
   "metadata": {},
   "source": [
    "    Now that we've gone over the basics of Python variables, comments, and data types, let's test them out. In Section 2 we will use these variables to create functions and play with data."
   ]
  }
 ],
 "metadata": {
  "language_info": {
   "name": "python"
  },
  "orig_nbformat": 4
 },
 "nbformat": 4,
 "nbformat_minor": 2
}
